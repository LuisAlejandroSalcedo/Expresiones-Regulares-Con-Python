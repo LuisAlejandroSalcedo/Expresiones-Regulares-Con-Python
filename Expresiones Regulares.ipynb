{
 "cells": [
  {
   "cell_type": "code",
   "execution_count": 1,
   "metadata": {},
   "outputs": [],
   "source": [
    "import re # Importamos el modulo regex"
   ]
  },
  {
   "cell_type": "code",
   "execution_count": 12,
   "metadata": {},
   "outputs": [
    {
     "data": {
      "text/plain": [
       "True"
      ]
     },
     "execution_count": 12,
     "metadata": {},
     "output_type": "execute_result"
    }
   ],
   "source": [
    "# El metodo mathc determina si la expresión regular tienen coincidencias\n",
    "# en el comienzo del texto\n",
    "\n",
    "def coincidencias(text1, text2):\n",
    "    if re.match(text1, text2):\n",
    "        return True\n",
    "    else:\n",
    "        return False\n",
    "    \n",
    "coincidencias(\"Python\", \"Python\")"
   ]
  },
  {
   "cell_type": "code",
   "execution_count": 18,
   "metadata": {},
   "outputs": [
    {
     "data": {
      "text/plain": [
       "['Niño', 'Acción', 'Expresión', 'Español']"
      ]
     },
     "execution_count": 18,
     "metadata": {},
     "output_type": "execute_result"
    }
   ],
   "source": [
    "# Con expresiones regulares, podremos buscar todo tipo de patrones\n",
    "# Por ejemplo, podremos iltrar las palabras con acentos\n",
    "patron = ('\\w*[ñáéíóúÑÁÉÍÓÚ]\\w*')\n",
    "palabras = re.compile(patron)\n",
    "palabras.findall(\"Niño, Acción, Perro, Lobo, Expresión, Español\")"
   ]
  },
  {
   "cell_type": "code",
   "execution_count": 21,
   "metadata": {},
   "outputs": [
    {
     "name": "stdout",
     "output_type": "stream",
     "text": [
      "URL Valida\n"
     ]
    }
   ],
   "source": [
    "# Podemos utilizar las expresiones regulares para la validación de URL\n",
    "\n",
    "#Este serie el patron que sigue una URL\n",
    "url = re.compile(r\"^(https?:\\/\\/)?([\\da-z\\.-]+)\\.([a-z\\.]{2,6})([\\/\\w \\.-]*)*\\/?$\")\n",
    "\n",
    "if url.search(\"http://pythondiario.com/\"): # Comprobemos que esta es una URL valida\n",
    "    print(\"URL Valida\")\n",
    "else:\n",
    "    print(\"URL No Valida\")"
   ]
  },
  {
   "cell_type": "code",
   "execution_count": 32,
   "metadata": {},
   "outputs": [
    {
     "name": "stdout",
     "output_type": "stream",
     "text": [
      "Correo valido!\n"
     ]
    }
   ],
   "source": [
    "# Uno de los usos que más se le dan a las expresiones regulares\n",
    "# es la verificación de correos electronicos\n",
    "patron = re.compile(r\"[\\w.%+-]+@[\\w.-]+\\.[a-zA-Z]{2,6}\")\n",
    "\n",
    "if patron.search(\"pythondi1io@gmail.com\"): # Comprobemos sí este es un correo electronico valido\n",
    "    print(\"Correo valido!\")\n",
    "else:\n",
    "    print(\"Correo Invalido!\")"
   ]
  },
  {
   "cell_type": "code",
   "execution_count": 33,
   "metadata": {},
   "outputs": [
    {
     "name": "stdout",
     "output_type": "stream",
     "text": [
      "Fecha Valida!\n"
     ]
    }
   ],
   "source": [
    "fecha = re.compile(r'^(0?[1-9]|[12][0-9]|3[01])/(0?[1-9]|1[012])/((19|20)\\d\\d)$')\n",
    "\n",
    "if fecha.search(\"13/02/1982\"):\n",
    "    print(\"Fecha Valida!\")\n",
    "else:\n",
    "    print(\"Fecha Invalida!\")"
   ]
  },
  {
   "cell_type": "code",
   "execution_count": 34,
   "metadata": {},
   "outputs": [
    {
     "name": "stdout",
     "output_type": "stream",
     "text": [
      "Fecha Invalida!\n"
     ]
    }
   ],
   "source": [
    "if fecha.search(\"332/49/1982\"):\n",
    "    print(\"Fecha Valida!\")\n",
    "else:\n",
    "    print(\"Fecha Invalida!\")"
   ]
  },
  {
   "cell_type": "code",
   "execution_count": null,
   "metadata": {},
   "outputs": [],
   "source": []
  }
 ],
 "metadata": {
  "kernelspec": {
   "display_name": "Python 3",
   "language": "python",
   "name": "python3"
  },
  "language_info": {
   "codemirror_mode": {
    "name": "ipython",
    "version": 3
   },
   "file_extension": ".py",
   "mimetype": "text/x-python",
   "name": "python",
   "nbconvert_exporter": "python",
   "pygments_lexer": "ipython3",
   "version": "3.6.4"
  }
 },
 "nbformat": 4,
 "nbformat_minor": 2
}
